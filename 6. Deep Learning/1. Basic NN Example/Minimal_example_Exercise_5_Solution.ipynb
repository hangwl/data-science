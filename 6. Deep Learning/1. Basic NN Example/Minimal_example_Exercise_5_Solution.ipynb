{
 "cells": [
  {
   "cell_type": "markdown",
   "metadata": {},
   "source": [
    "# Simple Linear Regression. Minimal example"
   ]
  },
  {
   "cell_type": "markdown",
   "metadata": {},
   "source": [
    "# Using the same code as before, please solve the following exercises\n",
    "    5. Тry with the L1-norm loss, given by the sum of the ABSOLUTE value of yj - tj. The L1-norm loss is given by:\n",
    "## $$ \\Sigma_i = |y_i-t_i| $$\n",
    "    \n",
    "    \n",
    "Useful tip: When you change something, don't forget to RERUN all cells. This can be done easily by clicking:\n",
    "Kernel -> Restart & Run All\n",
    "If you don't do that, your algorithm will keep the OLD values of all parameters.\n",
    "\n",
    "## Solution\n",
    "\n",
    "Find the line where we define the L2-norm loss, and change it from:\n",
    "\n",
    "loss = np.sum(deltas ** 2) / 2 / observations\n",
    "\n",
    "to\n",
    "\n",
    "loss = np.sum(np.absolute(deltas)) / 2 / observations\n",
    "\n",
    "You can keep the rescaling, so it is easier to compare the two methods.\n",
    "\n",
    "Some takeaways:\n",
    "1. Any function that has the property to be lower for better results and higher for worse results can be a loss function.\n",
    "This includes the L1-norm loss.\n",
    "2. Almost everything seems identical.\n",
    "3. The values of the loss we generally lower (as we don't elevate to the second power).\n",
    "4. For our problem, both L1-norm and L2-norm work equally well. \n",
    "5. Generally, L1-norm has more limitations than L2-norm. You can read more about that online. Overall, L2-norm loss is much more stable and computationally efficient. "
   ]
  },
  {
   "cell_type": "markdown",
   "metadata": {},
   "source": [
    "### Import the relevant libraries"
   ]
  },
  {
   "cell_type": "code",
   "execution_count": 1,
   "metadata": {
    "collapsed": false
   },
   "outputs": [],
   "source": [
    "# We must always import the relevant libraries for our problem at hand. NumPy is a must for this example.\n",
    "import numpy as np\n",
    "\n",
    "# matplotlib and mpl_toolkits are not necessary. We employ them for the sole purpose of visualizing the results.  \n",
    "import matplotlib.pyplot as plt\n",
    "from mpl_toolkits.mplot3d import Axes3D\n",
    "\n",
    "# to address overflow error...\n",
    "import matplotlib as mpl\n",
    "mpl.rcParams['agg.path.chunksize'] = 10000"
   ]
  },
  {
   "cell_type": "markdown",
   "metadata": {},
   "source": [
    "### Generate random input data to train on"
   ]
  },
  {
   "cell_type": "code",
   "execution_count": 2,
   "metadata": {
    "collapsed": false,
    "scrolled": false
   },
   "outputs": [
    {
     "name": "stdout",
     "output_type": "stream",
     "text": [
      "(1000, 2)\n"
     ]
    }
   ],
   "source": [
    "# First, we should declare a variable containing the size of the training set we want to generate.\n",
    "observations = 1000\n",
    "\n",
    "# We will work with two variables as inputs. You can think about them as x1 and x2 in our previous examples.\n",
    "# We have picked x and z, since it is easier to differentiate them.\n",
    "# We generate them randomly, drawing from an uniform distribution. There are 3 arguments of this method (low, high, size).\n",
    "# The size of xs and zs is observations by 1. In this case: 1000 x 1.\n",
    "xs = np.random.uniform(low=-10, high=10, size=(observations,1))\n",
    "zs = np.random.uniform(-10, 10, (observations,1))\n",
    "\n",
    "# Combine the two dimensions of the input into one input matrix. \n",
    "# This is the X matrix from the linear model y = x*w + b.\n",
    "# column_stack is a Numpy method, which combines two vectors into a matrix. Alternatives are stack, dstack, hstack, etc.\n",
    "inputs = np.column_stack((xs,zs))\n",
    "\n",
    "# Check if the dimensions of the inputs are the same as the ones we defined in the linear model lectures. \n",
    "# They should be n x k, where n is the number of observations, and k is the number of variables, so 1000 x 2.\n",
    "print (inputs.shape)"
   ]
  },
  {
   "cell_type": "markdown",
   "metadata": {},
   "source": [
    "### Generate the targets we will aim at"
   ]
  },
  {
   "cell_type": "code",
   "execution_count": 3,
   "metadata": {
    "collapsed": false
   },
   "outputs": [
    {
     "name": "stdout",
     "output_type": "stream",
     "text": [
      "(1000, 1)\n"
     ]
    }
   ],
   "source": [
    "# We want to \"make up\" a function, use the ML methodology, and see if the algorithm has learned it.\n",
    "# We add a small random noise to the function i.e. f(x,z) = 2x - 3z + 5 + <small noise>\n",
    "noise = np.random.uniform(-1, 1, (observations,1))\n",
    "\n",
    "# Produce the targets according to the f(x,z) = 2x - 3z + 5 + noise definition.\n",
    "# In this way, we are basically saying: the weights should be 2 and -3, while the bias is 5.\n",
    "targets = 2*xs - 3*zs + 5 + noise\n",
    "\n",
    "# Check the shape of the targets just in case. It should be n x m, where m is the number of output variables, so 1000 x 1.\n",
    "print (targets.shape)"
   ]
  },
  {
   "cell_type": "markdown",
   "metadata": {},
   "source": [
    "### Plot the training data\n",
    "The point is to see that there is a strong trend that our model should learn to reproduce."
   ]
  },
  {
   "cell_type": "code",
   "execution_count": 4,
   "metadata": {
    "collapsed": false
   },
   "outputs": [
    {
     "data": {
      "image/png": "[encoded data removed]",
      "text/plain": [
       "<Figure size 432x288 with 1 Axes>"
      ]
     },
     "metadata": {
      "needs_background": "light"
     },
     "output_type": "display_data"
    }
   ],
   "source": [
    "# In order to use the 3D plot, the objects should have a certain shape, so we reshape the targets.\n",
    "# The proper method to use is reshape and takes as arguments the dimensions in which we want to fit the object.\n",
    "targets = targets.reshape(observations,)\n",
    "\n",
    "# Plotting according to the conventional matplotlib.pyplot syntax\n",
    "\n",
    "# Declare the figure\n",
    "fig = plt.figure()\n",
    "\n",
    "# A method allowing us to create the 3D plot\n",
    "ax = fig.add_subplot(111, projection='3d')\n",
    "\n",
    "# Choose the axes.\n",
    "ax.plot(xs.reshape(observations,), zs, targets)\n",
    "\n",
    "# Set labels\n",
    "ax.set_xlabel('xs')\n",
    "ax.set_ylabel('zs')\n",
    "ax.set_zlabel('Targets')\n",
    "\n",
    "# You can fiddle with the azim parameter to plot the data from different angles. Just change the value of azim=100\n",
    "# to azim = 0 ; azim = 200, or whatever. Check and see what happens.\n",
    "ax.view_init(azim=100)\n",
    "\n",
    "# So far we were just describing the plot. This method actually shows the plot. \n",
    "plt.show()\n",
    "\n",
    "# We reshape the targets back to the shape that they were in before plotting.\n",
    "# This reshaping is a side-effect of the 3D plot. Sorry for that.\n",
    "targets = targets.reshape(observations,1)"
   ]
  },
  {
   "cell_type": "markdown",
   "metadata": {},
   "source": [
    "### Initialize variables"
   ]
  },
  {
   "cell_type": "code",
   "execution_count": 5,
   "metadata": {
    "collapsed": false
   },
   "outputs": [
    {
     "name": "stdout",
     "output_type": "stream",
     "text": [
      "[[ 0.0350742 ]\n",
      " [-0.07251032]]\n",
      "[-0.07883041]\n"
     ]
    }
   ],
   "source": [
    "# We will initialize the weights and biases randomly in some small initial range.\n",
    "# init_range is the variable that will measure that.\n",
    "# You can play around with the initial range, but we don't really encourage you to do so.\n",
    "# High initial ranges may prevent the machine learning algorithm from learning.\n",
    "init_range = 0.1\n",
    "\n",
    "# Weights are of size k x m, where k is the number of input variables and m is the number of output variables\n",
    "# In our case, the weights matrix is 2x1 since there are 2 inputs (x and z) and one output (y)\n",
    "weights = np.random.uniform(low=-init_range, high=init_range, size=(2, 1))\n",
    "\n",
    "# Biases are of size 1 since there is only 1 output. The bias is a scalar.\n",
    "biases = np.random.uniform(low=-init_range, high=init_range, size=1)\n",
    "\n",
    "#Print the weights to get a sense of how they were initialized.\n",
    "print (weights)\n",
    "print (biases)"
   ]
  },
  {
   "cell_type": "markdown",
   "metadata": {},
   "source": [
    "### Set a learning rate"
   ]
  },
  {
   "cell_type": "code",
   "execution_count": 6,
   "metadata": {
    "collapsed": false
   },
   "outputs": [],
   "source": [
    "# Set some small learning rate (denoted eta in the lecture). \n",
    "# 0.02 is going to work quite well for our example. Once again, you can play around with it.\n",
    "# It is HIGHLY recommended that you play around with it.\n",
    "learning_rate = 0.02"
   ]
  },
  {
   "cell_type": "markdown",
   "metadata": {},
   "source": [
    "### Train the model"
   ]
  },
  {
   "cell_type": "code",
   "execution_count": 7,
   "metadata": {
    "collapsed": false,
    "scrolled": true
   },
   "outputs": [
    {
     "name": "stdout",
     "output_type": "stream",
     "text": [
      "8.82041034646471\n",
      "3.2983428679918445\n",
      "2.4309267724735526\n",
      "2.399264591242214\n",
      "2.3571706489301425\n",
      "2.3119449722020766\n",
      "2.2663533509870897\n",
      "2.2212662852029754\n",
      "2.176949766358971\n",
      "2.133476830837534\n",
      "2.0908589926207783\n",
      "2.0490882807885784\n",
      "2.0081507021487495\n",
      "1.9680305558613886\n",
      "1.9287118150941192\n",
      "1.890178567047079\n",
      "1.8524151503151995\n",
      "1.8154061948999392\n",
      "1.7791366309274788\n",
      "1.743591687352181\n",
      "1.7087568875068853\n",
      "1.6746180437139986\n",
      "1.6411612516714518\n",
      "1.6083728848429872\n",
      "1.5762395889255512\n",
      "1.5447482764158758\n",
      "1.5138861212819206\n",
      "1.483640553739586\n",
      "1.45399925513338\n",
      "1.424950152919243\n",
      "1.3964814157475671\n",
      "1.3685814486444365\n",
      "1.341238888289135\n",
      "1.3144425983860037\n",
      "1.2881816651287632\n",
      "1.26244539275545\n",
      "1.237223299192163\n",
      "1.2125051117838401\n",
      "1.1882807631103292\n",
      "1.1645403868860498\n",
      "1.1412743139415737\n",
      "1.118473068285488\n",
      "1.096127363244939\n",
      "1.0742280976832816\n",
      "1.0527663522932948\n",
      "1.031733385964457\n",
      "1.0111206322227961\n",
      "0.9909196957418682\n",
      "0.971122348923441\n",
      "0.9517205285464935\n",
      "0.932706332483163\n",
      "0.9140720164803025\n",
      "0.8958099910053404\n",
      "0.8779128181551555\n",
      "0.8603732086267079\n",
      "0.843184018748194\n",
      "0.8263382475695155\n",
      "0.8098290340108756\n",
      "0.7936496540683445\n",
      "0.7777935180752532\n",
      "0.7622541680183021\n",
      "0.7470252749072895\n",
      "0.7321006361973906\n",
      "0.7174741732629343\n",
      "0.7031399289216547\n",
      "0.6890920650083991\n",
      "0.6753248599973167\n",
      "0.6618327066715488\n",
      "0.6486101098394759\n",
      "0.6356516840965942\n",
      "0.6229521516321026\n",
      "0.6105063400793176\n",
      "0.5983091804090277\n",
      "0.5863557048649386\n",
      "0.5746410449403682\n",
      "0.5631604293953613\n",
      "0.5519091823134192\n",
      "0.5408827211970594\n",
      "0.5300848485378598\n",
      "0.5195449121741145\n",
      "0.5092656099461464\n",
      "0.49927914157171316\n",
      "0.4895904930130342\n",
      "0.4802302678819027\n",
      "0.4711980638976063\n",
      "0.46250469030869273\n",
      "0.4541623962034608\n",
      "0.44611896124530614\n",
      "0.43836064681332315\n",
      "0.43091650617438804\n",
      "0.4237285136459406\n",
      "0.41682260844277347\n",
      "0.4101548969222827\n",
      "0.4037048276460019\n",
      "0.3975087209582532\n",
      "0.391566255764526\n",
      "0.38583756816375125\n",
      "0.38032618757125486\n",
      "0.3750530290987352\n",
      "0.37003152616305207\n"
     ]
    }
   ],
   "source": [
    "# We iterate over our training dataset 100 times. That works well with a learning rate of 0.02.\n",
    "# The proper number of iterations is something we will talk about later on, but generally\n",
    "# a lower learning rate would need more iterations, while a higher learning rate would need less iterations\n",
    "# keep in mind that a high learning rate may cause the loss to diverge to infinity, instead of converge to 0.\n",
    "for i in range (100):\n",
    "    \n",
    "    # This is the linear model: y = xw + b equation\n",
    "    outputs = np.dot(inputs,weights) + biases\n",
    "    # The deltas are the differences between the outputs and the targets\n",
    "    # Note that deltas here is a vector 1000 x 1\n",
    "    deltas = outputs - targets\n",
    "        \n",
    "    # We are considering the L2-norm loss, but divided by 2, so it is consistent with the lectures.\n",
    "    # Moreover, we further divide it by the number of observations.\n",
    "    # This is simple rescaling by a constant. We explained that this doesn't change the optimization logic,\n",
    "    # as any function holding the basic property of being lower for better results, and higher for worse results\n",
    "    # can be a loss function.\n",
    "    loss = np.sum(np.absolute(deltas)) / 2 / observations\n",
    "    \n",
    "    # We print the loss function value at each step so we can observe whether it is decreasing as desired.\n",
    "    print (loss)\n",
    "    \n",
    "    # Another small trick is to scale the deltas the same way as the loss function\n",
    "    # In this way our learning rate is independent of the number of samples (observations).\n",
    "    # Again, this doesn't change anything in principle, it simply makes it easier to pick a single learning rate\n",
    "    # that can remain the same if we change the number of training samples (observations).\n",
    "    # You can try solving the problem without rescaling to see how that works for you.\n",
    "    deltas_scaled = deltas / observations\n",
    "    \n",
    "    # Finally, we must apply the gradient descent update rules from the relevant lecture.\n",
    "    # The weights are 2x1, learning rate is 1x1 (scalar), inputs are 1000x2, and deltas_scaled are 1000x1\n",
    "    # We must transpose the inputs so that we get an allowed operation.\n",
    "    weights = weights - learning_rate * np.dot(inputs.T,deltas_scaled)\n",
    "    biases = biases - learning_rate * np.sum(deltas_scaled)\n",
    "    \n",
    "    # The weights are updated in a linear algebraic way (a matrix minus another matrix)\n",
    "    # The biases, however, are just a single number here, so we must transform the deltas into a scalar.\n",
    "    # The two lines are both consistent with the gradient descent methodology. "
   ]
  },
  {
   "cell_type": "markdown",
   "metadata": {},
   "source": [
    "### Print weights and biases and see if we have worked correctly."
   ]
  },
  {
   "cell_type": "code",
   "execution_count": 8,
   "metadata": {
    "collapsed": false
   },
   "outputs": [
    {
     "name": "stdout",
     "output_type": "stream",
     "text": [
      "[[ 1.99603356]\n",
      " [-2.9987624 ]] [4.34664128]\n"
     ]
    }
   ],
   "source": [
    "# We print the weights and the biases, so we can see if they have converged to what we wanted.\n",
    "# When declared the targets, following the f(x,z), we knew the weights should be 2 and -3, while the bias: 5.\n",
    "print (weights, biases)\n",
    "\n",
    "# Note that they may be convergING. So more iterations are needed."
   ]
  },
  {
   "cell_type": "markdown",
   "metadata": {},
   "source": [
    "### Plot last outputs vs targets\n",
    "Since they are the last ones at the end of the training, they represent the final model accuracy. <br/>\n",
    "The closer this plot is to a 45 degree line, the closer target and output values are."
   ]
  },
  {
   "cell_type": "code",
   "execution_count": 9,
   "metadata": {
    "collapsed": false
   },
   "outputs": [
    {
     "data": {
      "image/png": "[encoded data removed]",
      "text/plain": [
       "<Figure size 432x288 with 1 Axes>"
      ]
     },
     "metadata": {
      "needs_background": "light"
     },
     "output_type": "display_data"
    }
   ],
   "source": [
    "# We print the outputs and the targets in order to see if they have a linear relationship.\n",
    "# Again, that's not needed. Moreover, in later lectures, that would not even be possible.\n",
    "plt.plot(outputs,targets)\n",
    "plt.xlabel('outputs')\n",
    "plt.ylabel('targets')\n",
    "plt.show()"
   ]
  }
 ],
 "metadata": {
  "anaconda-cloud": {},
  "kernelspec": {
   "display_name": "Python 3.10.4 64-bit",
   "language": "python",
   "name": "python3"
  },
  "language_info": {
   "codemirror_mode": {
    "name": "ipython",
    "version": 3
   },
   "file_extension": ".py",
   "mimetype": "text/x-python",
   "name": "python",
   "nbconvert_exporter": "python",
   "pygments_lexer": "ipython3",
   "version": "3.10.4"
  },
  "vscode": {
   "interpreter": {
    "hash": "7ac5d840b21b8489350802d2508d91468aea9f35896439d4634edeb7fa6fa44f"
   }
  }
 },
 "nbformat": 4,
 "nbformat_minor": 1
}

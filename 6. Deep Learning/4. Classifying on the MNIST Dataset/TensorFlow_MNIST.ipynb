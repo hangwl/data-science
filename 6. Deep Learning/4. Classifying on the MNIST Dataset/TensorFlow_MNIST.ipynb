{
 "cells": [
  {
   "cell_type": "markdown",
   "metadata": {},
   "source": [
    "## Packages"
   ]
  },
  {
   "cell_type": "code",
   "execution_count": 2,
   "metadata": {},
   "outputs": [],
   "source": [
    "import numpy as np\n",
    "import tensorflow as tf\n",
    "import tensorflow_datasets as tfds"
   ]
  },
  {
   "cell_type": "markdown",
   "metadata": {},
   "source": [
    "## Data"
   ]
  },
  {
   "cell_type": "code",
   "execution_count": 3,
   "metadata": {},
   "outputs": [],
   "source": [
    "# load dataset\n",
    "mnist_dataset, mnist_info = tfds.load(name='mnist', with_info=True, as_supervised=True)\n",
    "# train and test datasets are directly available, extract them accordingly\n",
    "mnist_train, mnist_test = mnist_dataset['train'], mnist_dataset['test']\n",
    "# no validation sets so we have to split it on our own (in train data)\n",
    "\n",
    "# store number of validation samples, test samples into dedicated variables\n",
    "num_validation_samples = 0.1 * mnist_info.splits['train'].num_examples # .num_examples returns the dataset size\n",
    "num_validation_samples = tf.cast(num_validation_samples, tf.int64) # cast as integer to prevent errors\n",
    "num_test_samples = mnist_info.splits['test'].num_examples\n",
    "num_test_samples = tf.cast(num_test_samples, tf.int64)"
   ]
  },
  {
   "cell_type": "code",
   "execution_count": 4,
   "metadata": {},
   "outputs": [],
   "source": [
    "# we want to scale our data so that the results are more numerically stable\n",
    "def scale(image, label):\n",
    "    image = tf.cast(image, tf.float32)\n",
    "    image /= 255.\n",
    "    return image, label\n",
    "\n",
    "scaled_train_and_validation_data = mnist_train.map(scale) # .map() method allows us to apply a custom transformation (scale) to a given dataset\n",
    "test_data = mnist_test.map(scale)\n",
    "\n",
    "# shuffle the data\n",
    "BUFFER_SIZE = 10000\n",
    "shuffled_train_and_validation_data = scaled_train_and_validation_data.shuffle(BUFFER_SIZE)\n",
    "\n",
    "# extract validation and train data\n",
    "validation_data = shuffled_train_and_validation_data.take(num_validation_samples) # .take() method takes that many samples\n",
    "train_data = shuffled_train_and_validation_data.skip(num_validation_samples) # .skip() method skips that many samples"
   ]
  },
  {
   "cell_type": "code",
   "execution_count": 5,
   "metadata": {},
   "outputs": [],
   "source": [
    "# set batch size (1 -> SGD, no. of samples -> mini-batch GD) (we want a relatively small batch size wrt to dataset, but reasonably high to preserve underlying dependencies)\n",
    "BATCH_SIZE = 100\n",
    "train_data = train_data.batch(BATCH_SIZE)\n",
    "\n",
    "validation_data = validation_data.batch(num_validation_samples)\n",
    "\n",
    "test_data = test_data.batch(num_test_samples)\n",
    "\n",
    "# MNIST data is iterable and in 2-tuple format (as_supervised=True)\n",
    "validation_inputs, validation_targets = next(iter(validation_data)) \n",
    "# iter() is the pythonic syntax for making the validation data an iterator, but does not load the data\n",
    "# next() loads the next batch"
   ]
  },
  {
   "cell_type": "markdown",
   "metadata": {},
   "source": [
    "## Model\n"
   ]
  },
  {
   "cell_type": "code",
   "execution_count": 6,
   "metadata": {},
   "outputs": [],
   "source": [
    "# outline model\n",
    "input_size = 784 # our data is such that each observation is 28 by 28 by 1 (rank 3 tensor)\n",
    "output_size = 10\n",
    "hidden_layer_size = 100\n",
    "\n",
    "model = tf.keras.Sequential([\n",
    "    tf.keras.layers.Flatten(input_shape=(28, 28, 1)), # .flatten() is a layers method that transforms a tensor into a vector\n",
    "    tf.keras.layers.Dense(hidden_layer_size, activation='relu'), # ReLu works well for this problem\n",
    "    tf.keras.layers.Dense(hidden_layer_size, activation='relu'), # in practice, each NN has a different optimal combination of activation functions\n",
    "    tf.keras.layers.Dense(output_size, activation='softmax') # when we are creating a classifier, activation function of the output layer must result in probabilities\n",
    "])\n",
    "\n",
    "# width and depth are likely suboptimal\n",
    "# fine tune to obtain better results (?)"
   ]
  },
  {
   "cell_type": "code",
   "execution_count": 7,
   "metadata": {},
   "outputs": [],
   "source": [
    "# choose optimizer and loss function\n",
    "# our model and optimizer expects the output shape to match the target shape in a one-hot encoded format\n",
    "model.compile(optimizer='adam', loss='sparse_categorical_crossentropy', metrics=['accuracy'])\n",
    "# in TF2.0 there are 3 built-in variations of cross-entropy loss\n",
    "# 1. binary cross-entropy 2. categorical cross-entropy 3. sparse categorical cross-entropy (equivalent to 2. but applies one-hot encoding)"
   ]
  },
  {
   "cell_type": "code",
   "execution_count": 8,
   "metadata": {},
   "outputs": [
    {
     "name": "stdout",
     "output_type": "stream",
     "text": [
      "Epoch 1/5\n",
      "540/540 - 2s - loss: 0.3389 - accuracy: 0.9022 - val_loss: 0.1807 - val_accuracy: 0.9493 - 2s/epoch - 4ms/step\n",
      "Epoch 2/5\n",
      "540/540 - 1s - loss: 0.1418 - accuracy: 0.9579 - val_loss: 0.1296 - val_accuracy: 0.9612 - 1s/epoch - 2ms/step\n",
      "Epoch 3/5\n",
      "540/540 - 1s - loss: 0.1023 - accuracy: 0.9689 - val_loss: 0.1007 - val_accuracy: 0.9695 - 1s/epoch - 2ms/step\n",
      "Epoch 4/5\n",
      "540/540 - 1s - loss: 0.0795 - accuracy: 0.9762 - val_loss: 0.0735 - val_accuracy: 0.9793 - 1s/epoch - 2ms/step\n",
      "Epoch 5/5\n",
      "540/540 - 1s - loss: 0.0646 - accuracy: 0.9804 - val_loss: 0.0723 - val_accuracy: 0.9777 - 1s/epoch - 2ms/step\n"
     ]
    },
    {
     "data": {
      "text/plain": [
       "<keras.callbacks.History at 0x2af850dabc0>"
      ]
     },
     "execution_count": 8,
     "metadata": {},
     "output_type": "execute_result"
    }
   ],
   "source": [
    "# training\n",
    "NUM_EPOCHS = 5\n",
    "model.fit(train_data, epochs=NUM_EPOCHS, validation_data=(validation_inputs, validation_targets), verbose=2)"
   ]
  }
 ],
 "metadata": {
  "kernelspec": {
   "display_name": "Python 3.10.4 64-bit",
   "language": "python",
   "name": "python3"
  },
  "language_info": {
   "codemirror_mode": {
    "name": "ipython",
    "version": 3
   },
   "file_extension": ".py",
   "mimetype": "text/x-python",
   "name": "python",
   "nbconvert_exporter": "python",
   "pygments_lexer": "ipython3",
   "version": "3.10.4"
  },
  "orig_nbformat": 4,
  "vscode": {
   "interpreter": {
    "hash": "7ac5d840b21b8489350802d2508d91468aea9f35896439d4634edeb7fa6fa44f"
   }
  }
 },
 "nbformat": 4,
 "nbformat_minor": 2
}
